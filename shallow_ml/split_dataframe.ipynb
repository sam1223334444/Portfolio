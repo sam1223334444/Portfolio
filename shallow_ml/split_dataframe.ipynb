{
 "cells": [
  {
   "cell_type": "code",
   "execution_count": null,
   "metadata": {},
   "outputs": [],
   "source": [
    "import pandas as pd\n",
    "\n",
    "# 讀取xlsx文件\n",
    "wine = pd.read_excel('D:\\shallow_ml\\data\\wine.xlsx')\n",
    "print(wine.head())"
   ]
  },
  {
   "cell_type": "code",
   "execution_count": null,
   "metadata": {},
   "outputs": [],
   "source": [
    "import pandas as pd\n",
    "\n",
    "wine_index = pd.DataFrame({'index': range(len(wine))})\n",
    "wine = wine.drop(columns=['Customer_Segment'], errors='ignore')\n",
    "\n",
    "def split_dataframe(df, n):\n",
    "    \"\"\"\n",
    "    返回值：\n",
    "    - 带有标签变量的切割后的数据框架列表\n",
    "    \"\"\"\n",
    "    total_rows = len(df)\n",
    "    split_size = total_rows // n\n",
    "    split_dfs = []\n",
    "\n",
    "    # 切割数据框架\n",
    "    for i in range(n):\n",
    "        start_idx = i * split_size\n",
    "        end_idx = start_idx + split_size if i < n - 1 else total_rows\n",
    "        split_df = df.iloc[start_idx:end_idx].copy()  # 需要复制，以避免修改原始数据框架\n",
    "        split_df['labels'] = i  # 添加标签变量\n",
    "        split_dfs.append(split_df)\n",
    "\n",
    "    return split_dfs\n",
    "\n",
    "split_dfs = split_dataframe(wine_index, 3)\n",
    "\n",
    "# 合并切割后的数据框架\n",
    "wine_index = pd.concat(split_dfs)\n",
    "\n",
    "print(wine)\n",
    "print(wine_index)"
   ]
  }
 ],
 "metadata": {
  "language_info": {
   "name": "python"
  }
 },
 "nbformat": 4,
 "nbformat_minor": 2
}
